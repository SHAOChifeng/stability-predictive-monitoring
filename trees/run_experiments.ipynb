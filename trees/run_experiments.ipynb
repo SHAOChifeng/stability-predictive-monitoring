{
 "cells": [
  {
   "cell_type": "code",
   "execution_count": 1,
   "metadata": {
    "collapsed": true
   },
   "outputs": [],
   "source": [
    "import subprocess\n",
    "import time"
   ]
  },
  {
   "cell_type": "code",
   "execution_count": 2,
   "metadata": {
    "collapsed": true
   },
   "outputs": [],
   "source": [
    "dataset = \"sepsis_cases\"\n",
    "bucket_method = \"single\"\n",
    "cls_encoding = \"agg\""
   ]
  },
  {
   "cell_type": "code",
   "execution_count": 23,
   "metadata": {
    "collapsed": true
   },
   "outputs": [],
   "source": [
    "bucket_encoding = \"agg\"\n",
    "cls_method = \"xgboost\"\n",
    "n_iter = 16\n",
    "\n",
    "if cls_method == \"rf\":\n",
    "    experiments_filename = \"experiments_param_optim_rf.py\"\n",
    "    results_dir = \"results/validation_rf\"\n",
    "else:\n",
    "    experiments_filename = \"experiments_param_optim_xgboost.py\"\n",
    "    results_dir = \"results/validation\"\n",
    "    \n",
    "experiments_filename = \"experiments_param_optim_xgboost_cv.py\"\n",
    "results_dir = \"results/validation_xgboost_cv\""
   ]
  },
  {
   "cell_type": "code",
   "execution_count": 24,
   "metadata": {
    "collapsed": true
   },
   "outputs": [],
   "source": [
    "if dataset == \"minit\" or \"sample30000\" in dataset:\n",
    "    memory = 20000\n",
    "elif \"bpic2017\" in dataset or \"hospital_billing\" in dataset or \"traffic_fines\":\n",
    "    memory = 30000\n",
    "else:\n",
    "    memory = 10000"
   ]
  },
  {
   "cell_type": "code",
   "execution_count": 25,
   "metadata": {
    "collapsed": false
   },
   "outputs": [
    {
     "data": {
      "text/plain": [
       "<subprocess.Popen at 0x7f6b34502128>"
      ]
     },
     "execution_count": 25,
     "metadata": {},
     "output_type": "execute_result"
    }
   ],
   "source": [
    "with open(\"run.sh\", \"w\") as fout:\n",
    "    fout.write(\"#!/bin/bash\\n\")\n",
    "    fout.write(\"#SBATCH --output=results/output_files/cv_%s_%s_%s_%s.csv\\n\" % (dataset, bucket_method, cls_encoding, cls_method))\n",
    "    fout.write(\"#SBATCH --mem=%s\\n\" % memory)\n",
    "    fout.write(\"#SBATCH --time=3-00\\n\")\n",
    "\n",
    "    fout.write(\"python %s %s %s %s %s %s %s %s\" % (experiments_filename, dataset,\n",
    "                                                                                   bucket_encoding,\n",
    "                                                                                   bucket_method,\n",
    "                                                                                   cls_encoding,\n",
    "                                                                                   cls_method,\n",
    "                                                                                   results_dir, n_iter))\n",
    "\n",
    "time.sleep(5)\n",
    "subprocess.Popen(\"sbatch run.sh\".split())"
   ]
  },
  {
   "cell_type": "code",
   "execution_count": null,
   "metadata": {
    "collapsed": true
   },
   "outputs": [],
   "source": []
  },
  {
   "cell_type": "markdown",
   "metadata": {},
   "source": [
    "# Final results"
   ]
  },
  {
   "cell_type": "code",
   "execution_count": 19,
   "metadata": {
    "collapsed": true
   },
   "outputs": [],
   "source": [
    "dataset = \"sepsis_cases\"\n",
    "bucket_method = \"single\"\n",
    "cls_encoding = \"agg\""
   ]
  },
  {
   "cell_type": "code",
   "execution_count": 20,
   "metadata": {
    "collapsed": true
   },
   "outputs": [],
   "source": [
    "bucket_encoding = \"agg\"\n",
    "cls_method = \"xgboost_calibrated_sigmoid\"\n",
    "results_dir = \"results/final_xgb_cv\"\n",
    "optimal_params_filename = \"optimal_params.pickle\"\n",
    "experiments_filename = \"experiments_final_xgboost_cv.py\""
   ]
  },
  {
   "cell_type": "code",
   "execution_count": 21,
   "metadata": {
    "collapsed": true
   },
   "outputs": [],
   "source": [
    "if dataset == \"minit\" or \"sample30000\" in dataset:\n",
    "    memory = 20000\n",
    "elif \"bpic2017\" in dataset or \"hospital_billing\" in dataset or \"traffic_fines\":\n",
    "    memory = 30000\n",
    "else:\n",
    "    memory = 10000"
   ]
  },
  {
   "cell_type": "code",
   "execution_count": 22,
   "metadata": {
    "collapsed": false
   },
   "outputs": [
    {
     "data": {
      "text/plain": [
       "<subprocess.Popen at 0x7eff0577f0f0>"
      ]
     },
     "execution_count": 22,
     "metadata": {},
     "output_type": "execute_result"
    }
   ],
   "source": [
    "with open(\"run.sh\", \"w\") as fout:\n",
    "    fout.write(\"#!/bin/bash\\n\")\n",
    "    fout.write(\"#SBATCH --output=results/output_files/final_cv_%s_%s_%s_%s.csv\\n\" % (dataset, bucket_method, cls_encoding, cls_method))\n",
    "    fout.write(\"#SBATCH --mem=%s\\n\" % memory)\n",
    "    fout.write(\"#SBATCH --time=3-00\\n\")\n",
    "\n",
    "    fout.write(\"python %s %s %s %s %s %s %s %s\" % (experiments_filename, dataset,\n",
    "                                                                                   bucket_encoding,\n",
    "                                                                                   bucket_method,\n",
    "                                                                                   cls_encoding,\n",
    "                                                                                   cls_method,\n",
    "                                                   optimal_params_filename,\n",
    "                                                                                   results_dir))\n",
    "\n",
    "time.sleep(5)\n",
    "subprocess.Popen(\"sbatch run.sh\".split())"
   ]
  },
  {
   "cell_type": "code",
   "execution_count": null,
   "metadata": {
    "collapsed": true
   },
   "outputs": [],
   "source": []
  },
  {
   "cell_type": "markdown",
   "metadata": {},
   "source": [
    "# RF validation with stability"
   ]
  },
  {
   "cell_type": "code",
   "execution_count": 5,
   "metadata": {
    "collapsed": true
   },
   "outputs": [],
   "source": [
    "import numpy as np"
   ]
  },
  {
   "cell_type": "code",
   "execution_count": 6,
   "metadata": {
    "collapsed": true
   },
   "outputs": [],
   "source": [
    "def loguniform(low=0, high=1):\n",
    "    val = np.exp(np.random.uniform(0, 1, None))\n",
    "    scaled_val = (((val - np.exp(0)) * (high - low)) / (np.exp(1) - np.exp(0))) + low\n",
    "    return scaled_val"
   ]
  },
  {
   "cell_type": "code",
   "execution_count": 10,
   "metadata": {
    "collapsed": true
   },
   "outputs": [],
   "source": [
    "n_estimators = np.random.randint(10, 500)\n",
    "max_features = loguniform(0.01, 0.9)\n",
    "max_depth = np.random.randint(1, 20)"
   ]
  },
  {
   "cell_type": "code",
   "execution_count": 11,
   "metadata": {
    "collapsed": false
   },
   "outputs": [
    {
     "data": {
      "text/plain": [
       "(427, 0.63395630086199883, 7)"
      ]
     },
     "execution_count": 11,
     "metadata": {},
     "output_type": "execute_result"
    }
   ],
   "source": [
    "n_estimators, max_features, max_depth"
   ]
  },
  {
   "cell_type": "code",
   "execution_count": 8,
   "metadata": {
    "collapsed": true
   },
   "outputs": [],
   "source": [
    "dataset = \"production\"\n",
    "bucket_method = \"single\"\n",
    "cls_encoding = \"agg\""
   ]
  },
  {
   "cell_type": "code",
   "execution_count": 12,
   "metadata": {
    "collapsed": true
   },
   "outputs": [],
   "source": [
    "bucket_encoding = \"agg\"\n",
    "cls_method = \"rf\"\n",
    "n_iter = 10\n",
    "\n",
    "experiments_filename = \"experiments_param_optim_rf_stability.py\"\n",
    "results_dir = \"results/validation_rf_stability\""
   ]
  },
  {
   "cell_type": "code",
   "execution_count": 13,
   "metadata": {
    "collapsed": true
   },
   "outputs": [],
   "source": [
    "if dataset == \"minit\" or \"sample30000\" in dataset:\n",
    "    memory = 20000\n",
    "elif \"bpic2017\" in dataset or \"hospital_billing\" in dataset or \"traffic_fines\":\n",
    "    memory = 30000\n",
    "else:\n",
    "    memory = 10000"
   ]
  },
  {
   "cell_type": "code",
   "execution_count": 16,
   "metadata": {
    "collapsed": false
   },
   "outputs": [
    {
     "data": {
      "text/plain": [
       "<subprocess.Popen at 0x7fd9a2ce0400>"
      ]
     },
     "execution_count": 16,
     "metadata": {},
     "output_type": "execute_result"
    }
   ],
   "source": [
    "with open(\"run.sh\", \"w\") as fout:\n",
    "    fout.write(\"#!/bin/bash\\n\")\n",
    "    fout.write(\"#SBATCH --output=results/output_files/stability_%s_%s_%s_%s_%s.csv\\n\" % (dataset,\n",
    "                                                                                      bucket_method,\n",
    "                                                                                      cls_encoding,\n",
    "                                                                                      cls_method, \"_\".join([str(n_estimators), str(max_features), str(max_depth)])))\n",
    "    fout.write(\"#SBATCH --mem=%s\\n\" % memory)\n",
    "    fout.write(\"#SBATCH --time=3-00\\n\")\n",
    "\n",
    "    fout.write(\"python %s %s %s %s %s %s %s %s %s %s %s\" % (experiments_filename, dataset,\n",
    "                                                                                   bucket_encoding,\n",
    "                                                                                   bucket_method,\n",
    "                                                                                   cls_encoding,\n",
    "                                                                                   cls_method,\n",
    "                                                                                   results_dir,\n",
    "                                                            n_iter,\n",
    "                                                            n_estimators,\n",
    "                                                            max_features,\n",
    "                                                            max_depth))\n",
    "\n",
    "time.sleep(5)\n",
    "subprocess.Popen(\"sbatch run.sh\".split())"
   ]
  },
  {
   "cell_type": "code",
   "execution_count": null,
   "metadata": {
    "collapsed": true
   },
   "outputs": [],
   "source": []
  }
 ],
 "metadata": {
  "kernelspec": {
   "display_name": "Python 3",
   "language": "python",
   "name": "python3"
  },
  "language_info": {
   "codemirror_mode": {
    "name": "ipython",
    "version": 3
   },
   "file_extension": ".py",
   "mimetype": "text/x-python",
   "name": "python",
   "nbconvert_exporter": "python",
   "pygments_lexer": "ipython3",
   "version": "3.6.0"
  }
 },
 "nbformat": 4,
 "nbformat_minor": 2
}
