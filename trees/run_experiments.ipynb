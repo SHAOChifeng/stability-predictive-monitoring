{
 "cells": [
  {
   "cell_type": "code",
   "execution_count": 1,
   "metadata": {
    "collapsed": true
   },
   "outputs": [],
   "source": [
    "import subprocess\n",
    "import time"
   ]
  },
  {
   "cell_type": "code",
   "execution_count": 200,
   "metadata": {
    "collapsed": true
   },
   "outputs": [],
   "source": [
    "dataset = \"traffic_fines_1\"\n",
    "bucket_method = \"prefix\"\n",
    "cls_encoding = \"index\""
   ]
  },
  {
   "cell_type": "code",
   "execution_count": 201,
   "metadata": {
    "collapsed": true
   },
   "outputs": [],
   "source": [
    "bucket_encoding = \"agg\"\n",
    "cls_method = \"xgboost\"\n",
    "results_dir = \"results/validation\"\n",
    "n_iter = 16\n",
    "experiments_filename = \"experiments_param_optim_xgboost.py\""
   ]
  },
  {
   "cell_type": "code",
   "execution_count": 202,
   "metadata": {
    "collapsed": true
   },
   "outputs": [],
   "source": [
    "if dataset == \"minit\" or \"sample30000\" in dataset:\n",
    "    memory = 20000\n",
    "elif \"bpic2017\" in dataset or \"hospital_billing\" in dataset or \"traffic_fines\":\n",
    "    memory = 30000\n",
    "else:\n",
    "    memory = 10000"
   ]
  },
  {
   "cell_type": "code",
   "execution_count": 203,
   "metadata": {
    "collapsed": false
   },
   "outputs": [
    {
     "data": {
      "text/plain": [
       "<subprocess.Popen at 0x7f7fc42d48d0>"
      ]
     },
     "execution_count": 203,
     "metadata": {},
     "output_type": "execute_result"
    }
   ],
   "source": [
    "with open(\"run.sh\", \"w\") as fout:\n",
    "    fout.write(\"#!/bin/bash\\n\")\n",
    "    fout.write(\"#SBATCH --output=results/output_files/%s_%s_%s_%s.csv\\n\" % (dataset, bucket_method, cls_encoding, cls_method))\n",
    "    fout.write(\"#SBATCH --mem=%s\\n\" % memory)\n",
    "    fout.write(\"#SBATCH --time=3-00\\n\")\n",
    "\n",
    "    fout.write(\"python %s %s %s %s %s %s %s %s\" % (experiments_filename, dataset,\n",
    "                                                                                   bucket_encoding,\n",
    "                                                                                   bucket_method,\n",
    "                                                                                   cls_encoding,\n",
    "                                                                                   cls_method,\n",
    "                                                                                   results_dir, n_iter))\n",
    "\n",
    "time.sleep(5)\n",
    "subprocess.Popen(\"sbatch run.sh\".split())"
   ]
  },
  {
   "cell_type": "code",
   "execution_count": null,
   "metadata": {
    "collapsed": true
   },
   "outputs": [],
   "source": []
  },
  {
   "cell_type": "markdown",
   "metadata": {},
   "source": [
    "# Final results"
   ]
  },
  {
   "cell_type": "code",
   "execution_count": 418,
   "metadata": {
    "collapsed": true
   },
   "outputs": [],
   "source": [
    "dataset = \"bpic2017_refused\"\n",
    "bucket_method = \"single\"\n",
    "cls_encoding = \"agg\""
   ]
  },
  {
   "cell_type": "code",
   "execution_count": 419,
   "metadata": {
    "collapsed": true
   },
   "outputs": [],
   "source": [
    "bucket_encoding = \"agg\"\n",
    "cls_method = \"xgboost_calibrated_isotonic\"\n",
    "results_dir = \"results/final\"\n",
    "optimal_params_filename = \"optimal_params.pickle\"\n",
    "experiments_filename = \"experiments_final_xgboost.py\""
   ]
  },
  {
   "cell_type": "code",
   "execution_count": 420,
   "metadata": {
    "collapsed": true
   },
   "outputs": [],
   "source": [
    "if dataset == \"minit\" or \"sample30000\" in dataset:\n",
    "    memory = 20000\n",
    "elif \"bpic2017\" in dataset or \"hospital_billing\" in dataset or \"traffic_fines\":\n",
    "    memory = 30000\n",
    "else:\n",
    "    memory = 10000"
   ]
  },
  {
   "cell_type": "code",
   "execution_count": 421,
   "metadata": {
    "collapsed": false
   },
   "outputs": [
    {
     "data": {
      "text/plain": [
       "<subprocess.Popen at 0x7f493caa5400>"
      ]
     },
     "execution_count": 421,
     "metadata": {},
     "output_type": "execute_result"
    }
   ],
   "source": [
    "with open(\"run.sh\", \"w\") as fout:\n",
    "    fout.write(\"#!/bin/bash\\n\")\n",
    "    fout.write(\"#SBATCH --output=results/output_files/final_%s_%s_%s_%s.csv\\n\" % (dataset, bucket_method, cls_encoding, cls_method))\n",
    "    fout.write(\"#SBATCH --mem=%s\\n\" % memory)\n",
    "    fout.write(\"#SBATCH --time=3-00\\n\")\n",
    "\n",
    "    fout.write(\"python %s %s %s %s %s %s %s %s\" % (experiments_filename, dataset,\n",
    "                                                                                   bucket_encoding,\n",
    "                                                                                   bucket_method,\n",
    "                                                                                   cls_encoding,\n",
    "                                                                                   cls_method,\n",
    "                                                   optimal_params_filename,\n",
    "                                                                                   results_dir))\n",
    "\n",
    "time.sleep(5)\n",
    "subprocess.Popen(\"sbatch run.sh\".split())"
   ]
  },
  {
   "cell_type": "code",
   "execution_count": null,
   "metadata": {
    "collapsed": true
   },
   "outputs": [],
   "source": []
  }
 ],
 "metadata": {
  "kernelspec": {
   "display_name": "Python 3",
   "language": "python",
   "name": "python3"
  },
  "language_info": {
   "codemirror_mode": {
    "name": "ipython",
    "version": 3
   },
   "file_extension": ".py",
   "mimetype": "text/x-python",
   "name": "python",
   "nbconvert_exporter": "python",
   "pygments_lexer": "ipython3",
   "version": "3.6.0"
  }
 },
 "nbformat": 4,
 "nbformat_minor": 2
}
