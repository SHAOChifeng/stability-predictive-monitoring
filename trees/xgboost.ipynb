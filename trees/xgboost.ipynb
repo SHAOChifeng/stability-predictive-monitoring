{
 "cells": [
  {
   "cell_type": "code",
   "execution_count": 9,
   "metadata": {
    "collapsed": false
   },
   "outputs": [
    {
     "name": "stdout",
     "output_type": "stream",
     "text": [
      "The autoreload extension is already loaded. To reload it, use:\n",
      "  %reload_ext autoreload\n"
     ]
    }
   ],
   "source": [
    "%load_ext autoreload\n",
    "%autoreload 2"
   ]
  },
  {
   "cell_type": "code",
   "execution_count": 10,
   "metadata": {
    "collapsed": false
   },
   "outputs": [],
   "source": [
    "import numpy as np\n",
    "import scipy.sparse\n",
    "import xgboost as xgb"
   ]
  },
  {
   "cell_type": "code",
   "execution_count": 11,
   "metadata": {
    "collapsed": true
   },
   "outputs": [],
   "source": [
    "import pandas as pd\n",
    "import numpy as np\n",
    "import sys\n",
    "from sklearn.metrics import roc_auc_score, precision_recall_fscore_support\n",
    "from sklearn.pipeline import Pipeline, FeatureUnion\n",
    "from time import time\n",
    "import pickle\n",
    "import os\n",
    "from sys import argv\n",
    "import itertools"
   ]
  },
  {
   "cell_type": "code",
   "execution_count": 44,
   "metadata": {
    "collapsed": false
   },
   "outputs": [],
   "source": [
    "import EncoderFactory\n",
    "import ClassifierFactory\n",
    "from DatasetManager import DatasetManager"
   ]
  },
  {
   "cell_type": "code",
   "execution_count": 45,
   "metadata": {
    "collapsed": true
   },
   "outputs": [],
   "source": [
    "dataset_name = \"production\""
   ]
  },
  {
   "cell_type": "code",
   "execution_count": 46,
   "metadata": {
    "collapsed": true
   },
   "outputs": [],
   "source": [
    "methods = [\"static\", \"last\"]"
   ]
  },
  {
   "cell_type": "code",
   "execution_count": 47,
   "metadata": {
    "collapsed": true
   },
   "outputs": [],
   "source": [
    "train_ratio = 0.8\n",
    "val_ratio = 0.2\n",
    "random_state = 22\n",
    "fillna = True\n",
    "n_min_cases_in_bucket = 30"
   ]
  },
  {
   "cell_type": "code",
   "execution_count": 48,
   "metadata": {
    "collapsed": true
   },
   "outputs": [],
   "source": [
    "cls_encoder_args = {'case_id_col':dataset_manager.case_id_col, \n",
    "                    'static_cat_cols':dataset_manager.static_cat_cols,\n",
    "                    'static_num_cols':dataset_manager.static_num_cols, \n",
    "                    'dynamic_cat_cols':dataset_manager.dynamic_cat_cols,\n",
    "                    'dynamic_num_cols':dataset_manager.dynamic_num_cols, \n",
    "                    'fillna':fillna}"
   ]
  },
  {
   "cell_type": "code",
   "execution_count": 49,
   "metadata": {
    "collapsed": false
   },
   "outputs": [],
   "source": [
    "dataset_manager = DatasetManager(dataset_name)\n",
    "data = dataset_manager.read_dataset()\n",
    "train, test = dataset_manager.split_data_strict(data, train_ratio)\n",
    "train, val = dataset_manager.split_val(train, val_ratio)\n",
    "max_prefix_length = min(40, dataset_manager.get_pos_case_length_quantile(data, 0.90))\n",
    "min_prefix_length = 1"
   ]
  },
  {
   "cell_type": "code",
   "execution_count": 50,
   "metadata": {
    "collapsed": true
   },
   "outputs": [],
   "source": [
    "dt_train_prefixes = dataset_manager.generate_prefix_data(train, min_prefix_length, max_prefix_length)\n",
    "dt_val_prefixes = dataset_manager.generate_prefix_data(val, min_prefix_length, max_prefix_length)\n",
    "dt_test_prefixes = dataset_manager.generate_prefix_data(test, min_prefix_length, max_prefix_length)"
   ]
  },
  {
   "cell_type": "code",
   "execution_count": 51,
   "metadata": {
    "collapsed": true
   },
   "outputs": [],
   "source": [
    "max_depth_values = [3, 4, 5, 6, 7, 8, 9]\n",
    "min_child_weight_values = [1, 2, 3]"
   ]
  },
  {
   "cell_type": "code",
   "execution_count": 56,
   "metadata": {
    "collapsed": false
   },
   "outputs": [
    {
     "name": "stdout",
     "output_type": "stream",
     "text": [
      "AUC = 0.690806878307, n_estimators = 309, learning_rate = 0.031053916150034826, subsample = 0.5624783425918776, max_depth = 7, colsample_bytree = 0.4639186783251802, min_child_weight = 2\n",
      "AUC = 0.668113425926, n_estimators = 647, learning_rate = 0.03328721463087977, subsample = 0.5654068561074812, max_depth = 6, colsample_bytree = 0.46120041241958887, min_child_weight = 1\n",
      "AUC = 0.675925925926, n_estimators = 822, learning_rate = 0.03785990558578823, subsample = 0.3900011653438886, max_depth = 6, colsample_bytree = 0.4775153061223786, min_child_weight = 3\n",
      "AUC = 0.687045304233, n_estimators = 603, learning_rate = 0.02617238508763179, subsample = 0.553917856720791, max_depth = 6, colsample_bytree = 0.45095667550283736, min_child_weight = 3\n",
      "AUC = 0.688616071429, n_estimators = 531, learning_rate = 0.0454157059761846, subsample = 0.6156043071490778, max_depth = 3, colsample_bytree = 0.4537116779207621, min_child_weight = 1\n",
      "AUC = 0.752149470899, n_estimators = 214, learning_rate = 0.0635068470077025, subsample = 0.4365065249759945, max_depth = 3, colsample_bytree = 0.4904606212700752, min_child_weight = 2\n",
      "AUC = 0.647445436508, n_estimators = 514, learning_rate = 0.06986105927075376, subsample = 0.6228657821367695, max_depth = 9, colsample_bytree = 0.4909721292039145, min_child_weight = 2\n",
      "AUC = 0.698330026455, n_estimators = 219, learning_rate = 0.021733969051889287, subsample = 0.6679197965740157, max_depth = 4, colsample_bytree = 0.4733322513883876, min_child_weight = 2\n",
      "AUC = 0.658854166667, n_estimators = 821, learning_rate = 0.056771890536308225, subsample = 0.5749518260630908, max_depth = 4, colsample_bytree = 0.45875490295964283, min_child_weight = 3\n",
      "AUC = 0.649884259259, n_estimators = 474, learning_rate = 0.03814630989540983, subsample = 0.6671563378047642, max_depth = 8, colsample_bytree = 0.4643352107855937, min_child_weight = 2\n",
      "AUC = 0.678240740741, n_estimators = 823, learning_rate = 0.050060762946534096, subsample = 0.42804548544030196, max_depth = 5, colsample_bytree = 0.45673871948734607, min_child_weight = 1\n",
      "AUC = 0.708250661376, n_estimators = 523, learning_rate = 0.04735001889740908, subsample = 0.353089218642989, max_depth = 3, colsample_bytree = 0.4661892332363091, min_child_weight = 1\n",
      "AUC = 0.718501984127, n_estimators = 471, learning_rate = 0.042349137036276, subsample = 0.3958858487120836, max_depth = 3, colsample_bytree = 0.46318253048040375, min_child_weight = 2\n",
      "AUC = 0.694155092593, n_estimators = 407, learning_rate = 0.026216257651315036, subsample = 0.5318487210266614, max_depth = 6, colsample_bytree = 0.4672295325635276, min_child_weight = 2\n",
      "AUC = 0.718253968254, n_estimators = 254, learning_rate = 0.051490959639437145, subsample = 0.33221713936316555, max_depth = 6, colsample_bytree = 0.46650851459377546, min_child_weight = 3\n",
      "AUC = 0.706638558201, n_estimators = 264, learning_rate = 0.020112051200409313, subsample = 0.6277264524671636, max_depth = 5, colsample_bytree = 0.45009240451254234, min_child_weight = 2\n"
     ]
    }
   ],
   "source": [
    "for i in range(16):\n",
    "    n_estimators = np.random.randint(150, 1000)\n",
    "    learning_rate = np.random.uniform(0.01, 0.07)\n",
    "    subsample = np.random.uniform(0.3, 0.7)\n",
    "    max_depth = max_depth_values[np.random.randint(0, len(max_depth_values))]\n",
    "    colsample_bytree = np.random.uniform(0.5, 0.45)\n",
    "    min_child_weight = min_child_weight_values[np.random.randint(0, len(min_child_weight_values))]\n",
    "\n",
    "    params = {'n_estimators': n_estimators,\n",
    "             'learning_rate': learning_rate,\n",
    "             'subsample': subsample,\n",
    "             'max_depth': max_depth,\n",
    "             'colsample_bytree': colsample_bytree,\n",
    "             'min_child_weight': min_child_weight}\n",
    "\n",
    "    cls = xgb.XGBClassifier(objective = 'binary:logistic', **params)\n",
    "\n",
    "    train_y = dataset_manager.get_label_numeric(dt_train_prefixes)\n",
    "\n",
    "    feature_combiner = FeatureUnion([(method, EncoderFactory.get_encoder(method, **cls_encoder_args)) for method in methods])\n",
    "    pipeline = Pipeline([('encoder', feature_combiner), ('cls', cls)])\n",
    "    pipeline.fit(dt_train_prefixes, train_y)\n",
    "\n",
    "    preds = pipeline.predict_proba(dt_val_prefixes)\n",
    "    val_y = dataset_manager.get_label_numeric(dt_val_prefixes)\n",
    "    auc = roc_auc_score(val_y, preds[:,1])\n",
    "    print(\"AUC = %s, n_estimators = %s, learning_rate = %s, subsample = %s, max_depth = %s, colsample_bytree = %s, min_child_weight = %s\" % (auc, n_estimators, learning_rate, subsample, max_depth, colsample_bytree, min_child_weight))"
   ]
  },
  {
   "cell_type": "code",
   "execution_count": null,
   "metadata": {
    "collapsed": true
   },
   "outputs": [],
   "source": []
  }
 ],
 "metadata": {
  "kernelspec": {
   "display_name": "Python 3",
   "language": "python",
   "name": "python3"
  },
  "language_info": {
   "codemirror_mode": {
    "name": "ipython",
    "version": 3
   },
   "file_extension": ".py",
   "mimetype": "text/x-python",
   "name": "python",
   "nbconvert_exporter": "python",
   "pygments_lexer": "ipython3",
   "version": "3.5.2"
  }
 },
 "nbformat": 4,
 "nbformat_minor": 2
}
