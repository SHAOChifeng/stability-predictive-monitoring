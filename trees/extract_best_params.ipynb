{
 "cells": [
  {
   "cell_type": "code",
   "execution_count": 2,
   "metadata": {
    "collapsed": true
   },
   "outputs": [],
   "source": [
    "import glob\n",
    "import pandas as pd\n",
    "import os\n",
    "import numpy as np\n",
    "import pickle\n",
    "from sys import argv"
   ]
  },
  {
   "cell_type": "code",
   "execution_count": 3,
   "metadata": {
    "collapsed": false
   },
   "outputs": [],
   "source": [
    "files = glob.glob(\"results/validation/*\")\n",
    "files = [file for file in files if os.path.getsize(file) > 0]\n",
    "\n",
    "data = pd.read_csv(files[0], sep=\";\")\n",
    "for file in files[1:]:\n",
    "    tmp = pd.read_csv(file, sep=\";\")\n",
    "    data = pd.concat([data, tmp], axis=0)"
   ]
  },
  {
   "cell_type": "code",
   "execution_count": 4,
   "metadata": {
    "collapsed": false
   },
   "outputs": [
    {
     "data": {
      "text/plain": [
       "(14064, 13)"
      ]
     },
     "execution_count": 4,
     "metadata": {},
     "output_type": "execute_result"
    }
   ],
   "source": [
    "data.shape"
   ]
  },
  {
   "cell_type": "code",
   "execution_count": 5,
   "metadata": {
    "collapsed": false
   },
   "outputs": [
    {
     "data": {
      "text/html": [
       "<div>\n",
       "<table border=\"1\" class=\"dataframe\">\n",
       "  <thead>\n",
       "    <tr style=\"text-align: right;\">\n",
       "      <th></th>\n",
       "      <th>part</th>\n",
       "      <th>dataset</th>\n",
       "      <th>method</th>\n",
       "      <th>cls</th>\n",
       "      <th>n_estimators</th>\n",
       "      <th>learning_rate</th>\n",
       "      <th>subsample</th>\n",
       "      <th>max_depth</th>\n",
       "      <th>colsample_bytree</th>\n",
       "      <th>min_child_weight</th>\n",
       "      <th>nr_events</th>\n",
       "      <th>metric</th>\n",
       "      <th>score</th>\n",
       "    </tr>\n",
       "  </thead>\n",
       "  <tbody>\n",
       "    <tr>\n",
       "      <th>0</th>\n",
       "      <td>0</td>\n",
       "      <td>production</td>\n",
       "      <td>single_laststate</td>\n",
       "      <td>xgboost</td>\n",
       "      <td>158</td>\n",
       "      <td>0.010445</td>\n",
       "      <td>0.319582</td>\n",
       "      <td>9</td>\n",
       "      <td>0.479149</td>\n",
       "      <td>1</td>\n",
       "      <td>1</td>\n",
       "      <td>auc</td>\n",
       "      <td>0.749628</td>\n",
       "    </tr>\n",
       "    <tr>\n",
       "      <th>1</th>\n",
       "      <td>0</td>\n",
       "      <td>production</td>\n",
       "      <td>single_laststate</td>\n",
       "      <td>xgboost</td>\n",
       "      <td>373</td>\n",
       "      <td>0.058747</td>\n",
       "      <td>0.617477</td>\n",
       "      <td>8</td>\n",
       "      <td>0.467443</td>\n",
       "      <td>2</td>\n",
       "      <td>1</td>\n",
       "      <td>auc</td>\n",
       "      <td>0.65224</td>\n",
       "    </tr>\n",
       "    <tr>\n",
       "      <th>2</th>\n",
       "      <td>0</td>\n",
       "      <td>production</td>\n",
       "      <td>single_laststate</td>\n",
       "      <td>xgboost</td>\n",
       "      <td>849</td>\n",
       "      <td>0.046847</td>\n",
       "      <td>0.314837</td>\n",
       "      <td>5</td>\n",
       "      <td>0.488857</td>\n",
       "      <td>3</td>\n",
       "      <td>1</td>\n",
       "      <td>auc</td>\n",
       "      <td>0.673032</td>\n",
       "    </tr>\n",
       "    <tr>\n",
       "      <th>3</th>\n",
       "      <td>0</td>\n",
       "      <td>production</td>\n",
       "      <td>single_laststate</td>\n",
       "      <td>xgboost</td>\n",
       "      <td>893</td>\n",
       "      <td>0.031759</td>\n",
       "      <td>0.551795</td>\n",
       "      <td>5</td>\n",
       "      <td>0.474981</td>\n",
       "      <td>1</td>\n",
       "      <td>1</td>\n",
       "      <td>auc</td>\n",
       "      <td>0.662409</td>\n",
       "    </tr>\n",
       "    <tr>\n",
       "      <th>4</th>\n",
       "      <td>0</td>\n",
       "      <td>production</td>\n",
       "      <td>single_laststate</td>\n",
       "      <td>xgboost</td>\n",
       "      <td>680</td>\n",
       "      <td>0.048269</td>\n",
       "      <td>0.691477</td>\n",
       "      <td>8</td>\n",
       "      <td>0.458188</td>\n",
       "      <td>1</td>\n",
       "      <td>1</td>\n",
       "      <td>auc</td>\n",
       "      <td>0.632234</td>\n",
       "    </tr>\n",
       "  </tbody>\n",
       "</table>\n",
       "</div>"
      ],
      "text/plain": [
       "   part     dataset            method      cls  n_estimators  learning_rate  \\\n",
       "0     0  production  single_laststate  xgboost           158       0.010445   \n",
       "1     0  production  single_laststate  xgboost           373       0.058747   \n",
       "2     0  production  single_laststate  xgboost           849       0.046847   \n",
       "3     0  production  single_laststate  xgboost           893       0.031759   \n",
       "4     0  production  single_laststate  xgboost           680       0.048269   \n",
       "\n",
       "   subsample  max_depth  colsample_bytree  min_child_weight  nr_events metric  \\\n",
       "0   0.319582          9          0.479149                 1          1    auc   \n",
       "1   0.617477          8          0.467443                 2          1    auc   \n",
       "2   0.314837          5          0.488857                 3          1    auc   \n",
       "3   0.551795          5          0.474981                 1          1    auc   \n",
       "4   0.691477          8          0.458188                 1          1    auc   \n",
       "\n",
       "      score  \n",
       "0  0.749628  \n",
       "1   0.65224  \n",
       "2  0.673032  \n",
       "3  0.662409  \n",
       "4  0.632234  "
      ]
     },
     "execution_count": 5,
     "metadata": {},
     "output_type": "execute_result"
    }
   ],
   "source": [
    "data.head()"
   ]
  },
  {
   "cell_type": "code",
   "execution_count": 6,
   "metadata": {
    "collapsed": false
   },
   "outputs": [
    {
     "data": {
      "text/plain": [
       "auc    14064\n",
       "Name: metric, dtype: int64"
      ]
     },
     "execution_count": 6,
     "metadata": {},
     "output_type": "execute_result"
    }
   ],
   "source": [
    "data.metric.value_counts()"
   ]
  },
  {
   "cell_type": "code",
   "execution_count": 7,
   "metadata": {
    "collapsed": false
   },
   "outputs": [
    {
     "name": "stderr",
     "output_type": "stream",
     "text": [
      "/storage/software/python-3.6.0/lib/python3.6/site-packages/ipykernel/__main__.py:6: SettingWithCopyWarning: \n",
      "A value is trying to be set on a copy of a slice from a DataFrame\n",
      "\n",
      "See the caveats in the documentation: http://pandas.pydata.org/pandas-docs/stable/indexing.html#indexing-view-versus-copy\n",
      "/storage/software/python-3.6.0/lib/python3.6/site-packages/ipykernel/__main__.py:9: SettingWithCopyWarning: \n",
      "A value is trying to be set on a copy of a slice from a DataFrame\n",
      "\n",
      "See the caveats in the documentation: http://pandas.pydata.org/pandas-docs/stable/indexing.html#indexing-view-versus-copy\n"
     ]
    }
   ],
   "source": [
    "# select best params according to auc only\n",
    "data = data[data.metric==\"auc\"]\n",
    "\n",
    "\n",
    "# fix cases where score is unknown\n",
    "data[\"score\"][pd.isnull(data[\"score\"])] = 0\n",
    "\n",
    "if data[\"score\"].dtype != np.float64:\n",
    "    data[\"score\"][data[\"score\"] == \"None\"] = 0\n",
    "    \n",
    "data[\"score\"] = data[\"score\"].astype(float)\n",
    "data.fillna(0, inplace=True)"
   ]
  },
  {
   "cell_type": "code",
   "execution_count": 8,
   "metadata": {
    "collapsed": true
   },
   "outputs": [],
   "source": [
    "# extract columns that refer to parameters\n",
    "params_cols = [col for col in data.columns if col not in ['cls', 'dataset', 'method', 'metric', 'nr_events', 'part', 'score']]\n",
    "\n",
    "# aggregate data over all CV folds\n",
    "data_agg = data.groupby([\"cls\", \"dataset\", \"method\", \"metric\", \"nr_events\"] + params_cols, as_index=False)[\"score\"].mean()\n",
    "data_agg_over_all_prefixes = data.groupby([\"cls\", \"dataset\", \"method\", \"metric\"] + params_cols, as_index=False)[\"score\"].mean()\n",
    "\n",
    "\n",
    "# select the best params\n",
    "data_best = data_agg.sort_values(\"score\", ascending=False).groupby([\"cls\", \"dataset\", \"method\", \"metric\", \"nr_events\"], as_index=False).first()\n",
    "data_best_over_all_prefixes = data_agg_over_all_prefixes.sort_values(\"score\", ascending=False).groupby([\"cls\", \"dataset\", \"method\", \"metric\"], as_index=False).first()\n"
   ]
  },
  {
   "cell_type": "code",
   "execution_count": 9,
   "metadata": {
    "collapsed": true
   },
   "outputs": [],
   "source": [
    "best_params = {}\n",
    "\n",
    "# all except prefix length based\n",
    "for row in data_best_over_all_prefixes[~data_best_over_all_prefixes.method.str.contains(\"prefix\")][[\"dataset\", \"method\", \"cls\"] + params_cols].values:\n",
    "    \n",
    "    if row[0] not in best_params:\n",
    "        best_params[row[0]] = {}\n",
    "    if row[1] not in best_params[row[0]]:\n",
    "        best_params[row[0]][row[1]] = {}\n",
    "    if row[2] not in best_params[row[0]][row[1]]:\n",
    "        best_params[row[0]][row[1]][row[2]] = {}\n",
    "        \n",
    "    for i, param in enumerate(params_cols):\n",
    "        value = row[3+i]\n",
    "        if param in [\"n_estimators\", \"max_depth\", \"min_child_weight\"]:\n",
    "            value = int(value)\n",
    "        else:\n",
    "            value = float(value)\n",
    "            \n",
    "        best_params[row[0]][row[1]][row[2]][param] = value"
   ]
  },
  {
   "cell_type": "code",
   "execution_count": 10,
   "metadata": {
    "collapsed": true
   },
   "outputs": [],
   "source": [
    "# only prefix length based\n",
    "for row in data_best[data_best.method.str.contains(\"prefix\")][[\"dataset\", \"method\", \"cls\", \"nr_events\"] + params_cols].values:\n",
    "    \n",
    "    if row[0] not in best_params:\n",
    "        best_params[row[0]] = {}\n",
    "    if row[1] not in best_params[row[0]]:\n",
    "        best_params[row[0]][row[1]] = {}\n",
    "    if row[2] not in best_params[row[0]][row[1]]:\n",
    "        best_params[row[0]][row[1]][row[2]] = {}\n",
    "    if row[3] not in best_params[row[0]][row[1]][row[2]]:\n",
    "        best_params[row[0]][row[1]][row[2]][row[3]] = {}\n",
    "        \n",
    "    for i, param in enumerate(params_cols):\n",
    "        value = row[4+i]\n",
    "        if param in [\"n_estimators\", \"max_depth\", \"min_child_weight\"]:\n",
    "            value = int(value)\n",
    "        else:\n",
    "            value = float(value)\n",
    "            \n",
    "        best_params[row[0]][row[1]][row[2]][row[3]][param] = value\n",
    "        "
   ]
  },
  {
   "cell_type": "code",
   "execution_count": 11,
   "metadata": {
    "collapsed": false
   },
   "outputs": [],
   "source": [
    "outfile = \"optimal_params.pickle\"\n",
    "\n",
    "# write to file\n",
    "with open(outfile, \"wb\") as fout:\n",
    "    pickle.dump(best_params, fout)"
   ]
  },
  {
   "cell_type": "code",
   "execution_count": null,
   "metadata": {
    "collapsed": true
   },
   "outputs": [],
   "source": []
  }
 ],
 "metadata": {
  "kernelspec": {
   "display_name": "Python 3",
   "language": "python",
   "name": "python3"
  }
 },
 "nbformat": 4,
 "nbformat_minor": 2
}
