{
 "cells": [
  {
   "cell_type": "code",
   "execution_count": 209,
   "metadata": {
    "collapsed": true
   },
   "outputs": [],
   "source": [
    "import subprocess\n",
    "import time"
   ]
  },
  {
   "cell_type": "code",
   "execution_count": 8,
   "metadata": {
    "collapsed": true
   },
   "outputs": [],
   "source": [
    "dataset = \"bpic2017_a_wo_open_cases\""
   ]
  },
  {
   "cell_type": "code",
   "execution_count": 9,
   "metadata": {
    "collapsed": true
   },
   "outputs": [],
   "source": [
    "if dataset == \"minit\" or \"sample30000\" in dataset:\n",
    "    memory = 20000\n",
    "elif \"bpic2017\" in dataset or \"hospital_billing\" in dataset or \"traffic_fines\":\n",
    "    memory = 30000\n",
    "else:\n",
    "    memory = 10000"
   ]
  },
  {
   "cell_type": "code",
   "execution_count": 10,
   "metadata": {
    "collapsed": true
   },
   "outputs": [],
   "source": [
    "#experiments_filename = \"train_singletask_outcome_all_data.py\"\n",
    "#experiments_filename = \"train_singletask_outcome_all_data_timedistributed.py\"\n",
    "#experiments_filename = \"train_singletask_outcome_all_data_timedistributed_prefixes.py\"\n",
    "experiments_filename = \"evaluate_singletask_outcome_all_data.py\"\n",
    "#experiments_filename = \"evaluate_singletask_outcome_all_data_timedistributed.py\"\n",
    "#experiments_filename = \"evaluate_singletask_outcome_all_data_timedistributed_prefixes.py\""
   ]
  },
  {
   "cell_type": "code",
   "execution_count": 11,
   "metadata": {
    "collapsed": true
   },
   "outputs": [],
   "source": [
    "#method_name = \"train_singletask_all_data\"\n",
    "#method_name = \"train_singletask_all_data_timedistributed\"\n",
    "#method_name = \"train_singletask_all_data_timedistributed_prefixes\"\n",
    "method_name = \"evaluate_singletask_all_data\"\n",
    "#method_name = \"evaluate_singletask_all_data_timedistributed\"\n",
    "#method_name = \"evaluate_singletask_all_data_timedistributed_prefixes\""
   ]
  },
  {
   "cell_type": "code",
   "execution_count": null,
   "metadata": {
    "collapsed": false
   },
   "outputs": [],
   "source": [
    "with open(\"run.sh\", \"w\") as fout:\n",
    "    fout.write(\"#!/bin/bash\\n\")\n",
    "    fout.write(\"#SBATCH --partition=gpu\\n\")\n",
    "    fout.write(\"#SBATCH --gres=gpu:1\\n\")\n",
    "    fout.write(\"#SBATCH --output=results/output_files/%s_%s.csv\\n\" % (method_name, dataset))\n",
    "    fout.write(\"#SBATCH --mem=%s\\n\" % memory)\n",
    "\n",
    "    fout.write(\"python %s %s\" % (experiments_filename, dataset))\n",
    "\n",
    "time.sleep(5)\n",
    "subprocess.Popen(\"sbatch run.sh\".split())"
   ]
  },
  {
   "cell_type": "code",
   "execution_count": null,
   "metadata": {
    "collapsed": true
   },
   "outputs": [],
   "source": []
  },
  {
   "cell_type": "markdown",
   "metadata": {},
   "source": [
    "# Hyperparameter optimization"
   ]
  },
  {
   "cell_type": "code",
   "execution_count": 81,
   "metadata": {
    "collapsed": true
   },
   "outputs": [],
   "source": [
    "import numpy as np"
   ]
  },
  {
   "cell_type": "code",
   "execution_count": 82,
   "metadata": {
    "collapsed": true
   },
   "outputs": [],
   "source": [
    "def loguniform(low=0, high=1):\n",
    "    val = np.exp(np.random.uniform(0, 1, None))\n",
    "    scaled_val = (((val - np.exp(0)) * (high - low)) / (np.exp(1) - np.exp(0))) + low\n",
    "    return scaled_val"
   ]
  },
  {
   "cell_type": "code",
   "execution_count": 83,
   "metadata": {
    "collapsed": false
   },
   "outputs": [],
   "source": [
    "def uniform(low=0, high=1):\n",
    "    val = np.random.uniform(low, high, None)\n",
    "    return val"
   ]
  },
  {
   "cell_type": "code",
   "execution_count": 84,
   "metadata": {
    "collapsed": true
   },
   "outputs": [],
   "source": [
    "def loguniform_int(low=0, high=1):\n",
    "    val = np.exp(np.random.uniform(0, 1, None))\n",
    "    scaled_val = (((val - np.exp(0)) * (high - low)) / (np.exp(1) - np.exp(0))) + low\n",
    "    return int(scaled_val)"
   ]
  },
  {
   "cell_type": "code",
   "execution_count": 85,
   "metadata": {
    "collapsed": false
   },
   "outputs": [],
   "source": [
    "n_layers_values = [1, 2, 3]\n",
    "batch_size_values = [8, 16, 32, 64]\n",
    "optimizer_values = [\"rmsprop\", \"adam\"]"
   ]
  },
  {
   "cell_type": "code",
   "execution_count": 86,
   "metadata": {
    "collapsed": false
   },
   "outputs": [],
   "source": [
    "lstmsize = loguniform_int(10, 150)\n",
    "dropout = uniform(0, 0.3)\n",
    "n_layers = n_layers_values[np.random.randint(0, len(n_layers_values))]\n",
    "batch_size = batch_size_values[np.random.randint(0, len(batch_size_values))]\n",
    "optimizer = optimizer_values[np.random.randint(0, len(optimizer_values))]\n",
    "learning_rate = loguniform(low=0.0001, high=0.002)"
   ]
  },
  {
   "cell_type": "code",
   "execution_count": 87,
   "metadata": {
    "collapsed": false
   },
   "outputs": [
    {
     "name": "stdout",
     "output_type": "stream",
     "text": [
      "lstmsize = 43,\n",
      "dropout = 0.184432748903,\n",
      "n_layers = 2,\n",
      "batch_size = 8,\n",
      "optimizer = adam,\n",
      "learning_rate = 0.00135703810542\n"
     ]
    }
   ],
   "source": [
    "print(\"lstmsize = %s,\\ndropout = %s,\\nn_layers = %s,\\nbatch_size = %s,\\noptimizer = %s,\\nlearning_rate = %s\" % (lstmsize, dropout, n_layers, batch_size, optimizer, learning_rate))"
   ]
  },
  {
   "cell_type": "code",
   "execution_count": null,
   "metadata": {
    "collapsed": true
   },
   "outputs": [],
   "source": []
  },
  {
   "cell_type": "code",
   "execution_count": 34,
   "metadata": {
    "collapsed": false
   },
   "outputs": [],
   "source": [
    "lstmsize = 50\n",
    "dropout = 0\n",
    "n_layers = 1\n",
    "batch_size = 16\n",
    "learning_rate = 0.0005\n",
    "activation = \"sigmoid\"\n",
    "optimizer = \"adam\""
   ]
  },
  {
   "cell_type": "code",
   "execution_count": null,
   "metadata": {
    "collapsed": true
   },
   "outputs": [],
   "source": []
  },
  {
   "cell_type": "code",
   "execution_count": 384,
   "metadata": {
    "collapsed": true
   },
   "outputs": [],
   "source": [
    "dataset = \"bpic2012_declined\""
   ]
  },
  {
   "cell_type": "code",
   "execution_count": 385,
   "metadata": {
    "collapsed": true
   },
   "outputs": [],
   "source": [
    "if dataset == \"minit\" or \"sample30000\" in dataset:\n",
    "    memory = 20000\n",
    "elif \"bpic2017\" in dataset or \"hospital_billing\" in dataset or \"traffic_fines\":\n",
    "    memory = 30000\n",
    "else:\n",
    "    memory = 10000"
   ]
  },
  {
   "cell_type": "code",
   "execution_count": 386,
   "metadata": {
    "collapsed": true
   },
   "outputs": [],
   "source": [
    "activation = \"sigmoid\""
   ]
  },
  {
   "cell_type": "code",
   "execution_count": 419,
   "metadata": {
    "collapsed": true
   },
   "outputs": [],
   "source": [
    "lstmsize = loguniform_int(10, 150)\n",
    "dropout = uniform(0, 0.3)\n",
    "n_layers = n_layers_values[np.random.randint(0, len(n_layers_values))]\n",
    "batch_size = batch_size_values[np.random.randint(0, len(batch_size_values))]\n",
    "optimizer = optimizer_values[np.random.randint(0, len(optimizer_values))]\n",
    "learning_rate = loguniform(low=0.0001, high=0.002)"
   ]
  },
  {
   "cell_type": "code",
   "execution_count": 420,
   "metadata": {
    "collapsed": false
   },
   "outputs": [
    {
     "name": "stdout",
     "output_type": "stream",
     "text": [
      "lstmsize = 138,\n",
      "dropout = 0.253877691632,\n",
      "n_layers = 1,\n",
      "batch_size = 16,\n",
      "optimizer = adam,\n",
      "learning_rate = 0.000458222447211\n"
     ]
    }
   ],
   "source": [
    "print(\"lstmsize = %s,\\ndropout = %s,\\nn_layers = %s,\\nbatch_size = %s,\\noptimizer = %s,\\nlearning_rate = %s\" % (lstmsize, dropout, n_layers, batch_size, optimizer, learning_rate))"
   ]
  },
  {
   "cell_type": "code",
   "execution_count": 421,
   "metadata": {
    "collapsed": false
   },
   "outputs": [],
   "source": [
    "experiments_filename = \"validate_singletask_with_outcome_all_data.py\"\n",
    "method_name = \"validate_singletask_all_data\"\n",
    "params = \"lstmsize%s_dropout%s_nlayers%s_batchsize%s_lr%s_activation%s_optimizer%s\" % (lstmsize, dropout, n_layers, batch_size, learning_rate, activation, optimizer)"
   ]
  },
  {
   "cell_type": "code",
   "execution_count": 422,
   "metadata": {
    "collapsed": false
   },
   "outputs": [
    {
     "data": {
      "text/plain": [
       "<subprocess.Popen at 0x305b450>"
      ]
     },
     "execution_count": 422,
     "metadata": {},
     "output_type": "execute_result"
    }
   ],
   "source": [
    "with open(\"run.sh\", \"w\") as fout:\n",
    "    fout.write(\"#!/bin/bash\\n\")\n",
    "    fout.write(\"#SBATCH --partition=gpu\\n\")\n",
    "    fout.write(\"#SBATCH --gres=gpu:1\\n\")\n",
    "    fout.write(\"#SBATCH --output=results/output_files/%s_%s_%s.csv\\n\" % (method_name, dataset, params))\n",
    "    fout.write(\"#SBATCH --mem=%s\\n\" % memory)\n",
    "\n",
    "    fout.write(\"python %s %s %s %s %s %s %s %s %s\" % (experiments_filename, dataset, lstmsize, dropout, n_layers,\n",
    "                                                     batch_size, learning_rate, activation, optimizer))\n",
    "\n",
    "time.sleep(5)\n",
    "subprocess.Popen(\"sbatch run.sh\".split())"
   ]
  },
  {
   "cell_type": "code",
   "execution_count": null,
   "metadata": {
    "collapsed": true
   },
   "outputs": [],
   "source": []
  },
  {
   "cell_type": "markdown",
   "metadata": {},
   "source": [
    "# Train/evaluate final"
   ]
  },
  {
   "cell_type": "code",
   "execution_count": 303,
   "metadata": {
    "collapsed": true
   },
   "outputs": [],
   "source": [
    "dataset = \"production\""
   ]
  },
  {
   "cell_type": "code",
   "execution_count": 304,
   "metadata": {
    "collapsed": true
   },
   "outputs": [],
   "source": [
    "if dataset == \"minit\" or \"sample30000\" in dataset:\n",
    "    memory = 20000\n",
    "elif \"bpic2017\" in dataset or \"hospital_billing\" in dataset or \"traffic_fines\":\n",
    "    memory = 30000\n",
    "else:\n",
    "    memory = 10000"
   ]
  },
  {
   "cell_type": "code",
   "execution_count": 305,
   "metadata": {
    "collapsed": true
   },
   "outputs": [],
   "source": [
    "lstmsize = 18\n",
    "dropout = 0.195\n",
    "n_layers = 1\n",
    "batch_size = 16\n",
    "learning_rate = 0.00104\n",
    "activation = \"sigmoid\"\n",
    "optimizer = \"adam\""
   ]
  },
  {
   "cell_type": "code",
   "execution_count": 308,
   "metadata": {
    "collapsed": true
   },
   "outputs": [],
   "source": [
    "#experiments_filename = \"train_final_singletask_with_outcome_all_data.py\"\n",
    "experiments_filename = \"evaluate_final_singletask_with_outcome_all_data.py\"\n",
    "#experiments_filename = \"calibrate_lstm.py\"\n",
    "\n",
    "#method_name = \"train_final_singletask_all_data\"\n",
    "method_name = \"evaluate_final_singletask_all_data\"\n",
    "#method_name = \"calibrate_lstm\""
   ]
  },
  {
   "cell_type": "code",
   "execution_count": 309,
   "metadata": {
    "collapsed": false
   },
   "outputs": [
    {
     "data": {
      "text/plain": [
       "<subprocess.Popen at 0x30336d0>"
      ]
     },
     "execution_count": 309,
     "metadata": {},
     "output_type": "execute_result"
    }
   ],
   "source": [
    "with open(\"run.sh\", \"w\") as fout:\n",
    "    fout.write(\"#!/bin/bash\\n\")\n",
    "    fout.write(\"#SBATCH --partition=gpu\\n\")\n",
    "    fout.write(\"#SBATCH --gres=gpu:1\\n\")\n",
    "    fout.write(\"#SBATCH --output=results/output_files/%s_%s.csv\\n\" % (method_name, dataset))\n",
    "    fout.write(\"#SBATCH --mem=%s\\n\" % memory)\n",
    "\n",
    "    fout.write(\"python %s %s %s %s %s %s %s %s %s\" % (experiments_filename, dataset, lstmsize, dropout, n_layers,\n",
    "                                                     batch_size, learning_rate, activation, optimizer))\n",
    "\n",
    "time.sleep(5)\n",
    "subprocess.Popen(\"sbatch run.sh\".split())"
   ]
  },
  {
   "cell_type": "code",
   "execution_count": null,
   "metadata": {
    "collapsed": true
   },
   "outputs": [],
   "source": []
  },
  {
   "cell_type": "markdown",
   "metadata": {},
   "source": [
    "# Embeddings"
   ]
  },
  {
   "cell_type": "code",
   "execution_count": 11,
   "metadata": {
    "collapsed": true
   },
   "outputs": [],
   "source": [
    "dataset = \"bpic2017_accepted\""
   ]
  },
  {
   "cell_type": "code",
   "execution_count": 12,
   "metadata": {
    "collapsed": true
   },
   "outputs": [],
   "source": [
    "if dataset == \"minit\":\n",
    "    memory = 20000\n",
    "elif \"bpic2017\" in dataset:\n",
    "    memory = 30000\n",
    "else:\n",
    "    memory = 10000"
   ]
  },
  {
   "cell_type": "code",
   "execution_count": 22,
   "metadata": {
    "collapsed": true
   },
   "outputs": [],
   "source": [
    "method_name = \"act_res_united\"\n",
    "experiment_type = \"evaluate\""
   ]
  },
  {
   "cell_type": "code",
   "execution_count": 23,
   "metadata": {
    "collapsed": true
   },
   "outputs": [],
   "source": [
    "experiments_filename = \"%s_singletask_outcome_all_data_act_res_embedding.py\" % experiment_type"
   ]
  },
  {
   "cell_type": "code",
   "execution_count": 24,
   "metadata": {
    "collapsed": false
   },
   "outputs": [
    {
     "data": {
      "text/plain": [
       "<subprocess.Popen at 0x3458ad0>"
      ]
     },
     "execution_count": 24,
     "metadata": {},
     "output_type": "execute_result"
    }
   ],
   "source": [
    "with open(\"run.sh\", \"w\") as fout:\n",
    "    fout.write(\"#!/bin/bash\\n\")\n",
    "    fout.write(\"#SBATCH --partition=gpu\\n\")\n",
    "    fout.write(\"#SBATCH --gres=gpu:1\\n\")\n",
    "    fout.write(\"#SBATCH --output=results/output_files/%s_%s_%s.csv\\n\" % (experiment_type, method_name, dataset))\n",
    "    fout.write(\"#SBATCH --mem=%s\\n\" % memory)\n",
    "\n",
    "    fout.write(\"python %s %s %s\" % (experiments_filename, dataset, method_name))\n",
    "\n",
    "time.sleep(5)\n",
    "subprocess.Popen(\"sbatch run.sh\".split())"
   ]
  },
  {
   "cell_type": "code",
   "execution_count": null,
   "metadata": {
    "collapsed": true
   },
   "outputs": [],
   "source": []
  }
 ],
 "metadata": {
  "kernelspec": {
   "display_name": "Python 2",
   "language": "python",
   "name": "python2"
  },
  "language_info": {
   "codemirror_mode": {
    "name": "ipython",
    "version": 2
   },
   "file_extension": ".py",
   "mimetype": "text/x-python",
   "name": "python",
   "nbconvert_exporter": "python",
   "pygments_lexer": "ipython2",
   "version": "2.7.3"
  }
 },
 "nbformat": 4,
 "nbformat_minor": 1
}
